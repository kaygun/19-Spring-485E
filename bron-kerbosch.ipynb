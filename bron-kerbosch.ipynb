{
 "cells": [
  {
   "cell_type": "markdown",
   "metadata": {},
   "source": [
    "# Bron-Kerbosch Algorithm\n",
    "\n",
    "## A description\n",
    "\n",
    "[Bron-Kerbosch](http://www.dcs.gla.ac.uk/~pat/jchoco/clique/enumeration/report.pdf) algorithm finds the list of all cliques within a graph. Let us recall that a clique of a graph $G$ is a maximal subgraph $C$ of $G$ which is isomorphic to $K_n$ for some $n$.\n",
    "\n",
    "One can write a pseudo-code for the algorithm as follows:\n",
    "\n",
    "    Algorithm Bron-Kerbosch\n",
    "    Input: G = (V,E) is a graph\n",
    "           P X R are subsets of V\n",
    "    Output: C = The full list of cliques in G\n",
    "    Begin\n",
    "       If both P and X are empty then\n",
    "          Return the set { R }\n",
    "       Else\n",
    "          Let C be the empty set\n",
    "          For each v in P do\n",
    "             Let N be neighbors of v in G\n",
    "             Add C the results of \n",
    "                 calling Bron-Kerbosch(G, Intersection(P,N), Intersection(X,N), Union(R,{v}))\n",
    "             Remove v from P\n",
    "             Add v to X\n",
    "          End\n",
    "       End\n",
    "       Return C\n",
    "    End\n",
    "\n",
    "## An implementation\n",
    "\n",
    "Below, you will find an implementation of the algorithm in [Clojure](https://clojure.org).  You don't have to understand the specifics of the implementation. Jump to the results section:"
   ]
  },
  {
   "cell_type": "code",
   "execution_count": 1,
   "metadata": {},
   "outputs": [
    {
     "data": {
      "text/plain": [
       "#'user/neighbors"
      ]
     },
     "execution_count": 1,
     "metadata": {},
     "output_type": "execute_result"
    }
   ],
   "source": [
    "(use 'clojure.set)\n",
    "(defn vertices [graph] (reduce union graph))\n",
    "(defn neighbors [v graph]\n",
    "  (difference (reduce union (filter (fn [edge] (contains? edge v)) graph)) #{v}))"
   ]
  },
  {
   "cell_type": "code",
   "execution_count": 2,
   "metadata": {},
   "outputs": [
    {
     "data": {
      "text/plain": [
       "#'user/bron-kerbosch"
      ]
     },
     "execution_count": 2,
     "metadata": {},
     "output_type": "execute_result"
    }
   ],
   "source": [
    "(defn bron-kerbosch \n",
    "    ([graph] (bron-kerbosch graph (vertices graph) #{} #{}))\n",
    "    ([graph p x r]\n",
    "     (println (str \"bron-kerbosch(p=\" p \"\\tx=\" x \"\\tr=\" r \")\"))\n",
    "     (if (and (empty? x) (empty? p)) \n",
    "         #{r}\n",
    "         (loop [ps p\n",
    "                xs x\n",
    "                cs #{}]\n",
    "             (if (empty? ps)\n",
    "                 cs\n",
    "                 (let [v (first ps)\n",
    "                       nv (neighbors v graph)]\n",
    "                     (recur (into #{} (rest ps))\n",
    "                            (union #{v} xs)\n",
    "                            (union cs (bron-kerbosch graph\n",
    "                                                     (intersection ps nv)\n",
    "                                                     (intersection xs nv)\n",
    "                                                     (union #{v} r))))))))))"
   ]
  },
  {
   "cell_type": "markdown",
   "metadata": {},
   "source": [
    "## Results\n",
    "\n",
    "Below you see the results for two graphs:\n",
    "\n",
    "The first is a copy of $K_3$. The lines you see before the final result are the intermediate steps.\n",
    "\n",
    "![img](K3.png)"
   ]
  },
  {
   "cell_type": "code",
   "execution_count": 3,
   "metadata": {},
   "outputs": [
    {
     "name": "stdout",
     "output_type": "stream",
     "text": [
      "bron-kerbosch(p=#{1 3 2}\tx=#{}\tr=#{})\n",
      "bron-kerbosch(p=#{3 2}\tx=#{}\tr=#{1})\n",
      "bron-kerbosch(p=#{2}\tx=#{}\tr=#{1 3})\n",
      "bron-kerbosch(p=#{}\tx=#{}\tr=#{1 3 2})\n",
      "bron-kerbosch(p=#{}\tx=#{3}\tr=#{1 2})\n",
      "bron-kerbosch(p=#{2}\tx=#{1}\tr=#{3})\n",
      "bron-kerbosch(p=#{}\tx=#{1}\tr=#{3 2})\n",
      "bron-kerbosch(p=#{}\tx=#{1 3}\tr=#{2})\n"
     ]
    },
    {
     "data": {
      "text/plain": [
       "#{#{1 3 2}}"
      ]
     },
     "execution_count": 3,
     "metadata": {},
     "output_type": "execute_result"
    }
   ],
   "source": [
    "(bron-kerbosch [#{1 2} #{2 3} #{1 3}])"
   ]
  },
  {
   "cell_type": "markdown",
   "metadata": {},
   "source": [
    "The second is a union of two copies of $K_3$ merged at the vertex 2:\n",
    "\n",
    "![img](G.png)"
   ]
  },
  {
   "cell_type": "code",
   "execution_count": 4,
   "metadata": {},
   "outputs": [
    {
     "name": "stdout",
     "output_type": "stream",
     "text": [
      "bron-kerbosch(p=#{1 4 3 2 5}\tx=#{}\tr=#{})\n",
      "bron-kerbosch(p=#{3 2}\tx=#{}\tr=#{1})\n",
      "bron-kerbosch(p=#{2}\tx=#{}\tr=#{1 3})\n",
      "bron-kerbosch(p=#{}\tx=#{}\tr=#{1 3 2})\n",
      "bron-kerbosch(p=#{}\tx=#{3}\tr=#{1 2})\n",
      "bron-kerbosch(p=#{2 5}\tx=#{}\tr=#{4})\n",
      "bron-kerbosch(p=#{5}\tx=#{}\tr=#{4 2})\n",
      "bron-kerbosch(p=#{}\tx=#{}\tr=#{4 2 5})\n",
      "bron-kerbosch(p=#{}\tx=#{2}\tr=#{4 5})\n",
      "bron-kerbosch(p=#{2}\tx=#{1}\tr=#{3})\n",
      "bron-kerbosch(p=#{}\tx=#{1}\tr=#{3 2})\n",
      "bron-kerbosch(p=#{5}\tx=#{1 4 3}\tr=#{2})\n",
      "bron-kerbosch(p=#{}\tx=#{4}\tr=#{2 5})\n",
      "bron-kerbosch(p=#{}\tx=#{4 2}\tr=#{5})\n"
     ]
    },
    {
     "data": {
      "text/plain": [
       "#{#{4 2 5} #{1 3 2}}"
      ]
     },
     "execution_count": 4,
     "metadata": {},
     "output_type": "execute_result"
    }
   ],
   "source": [
    "(bron-kerbosch [#{1 2} #{2 3} #{1 3} #{2 4} #{4 5} #{2 5}])"
   ]
  },
  {
   "cell_type": "markdown",
   "metadata": {},
   "source": [
    "## Additional material\n",
    "\n",
    "If you'd like to play with the implementation, I created a public [repl.it](https://repl.it/@kaygun/Bron-Kerbosch) playground where you can play with it on different examples."
   ]
  },
  {
   "cell_type": "code",
   "execution_count": null,
   "metadata": {},
   "outputs": [],
   "source": []
  }
 ],
 "metadata": {
  "kernelspec": {
   "display_name": "Clojure",
   "language": "clojure",
   "name": "clojure"
  },
  "language_info": {
   "file_extension": ".clj",
   "mimetype": "text/x-clojure",
   "name": "clojure",
   "version": "1.8.0"
  }
 },
 "nbformat": 4,
 "nbformat_minor": 2
}
